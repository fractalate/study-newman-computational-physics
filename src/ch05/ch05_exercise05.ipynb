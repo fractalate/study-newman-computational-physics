{
 "cells": [
  {
   "cell_type": "markdown",
   "id": "ea501474-9853-4bff-8bfc-1f84911f878d",
   "metadata": {},
   "source": [
    "# Chapter 5, Exercise 5"
   ]
  },
  {
   "cell_type": "markdown",
   "id": "45dc5cad-a828-462f-a5a2-8a0d630c4871",
   "metadata": {},
   "source": [
    "Following the same line of argument that lead to Eq. (5.28), show that the error on an integral evaluated using Simpson's rule is given, to leading order in $h$, by Eq. (5.29). "
   ]
  },
  {
   "cell_type": "markdown",
   "id": "a7736cd4-d852-4164-87ae-d8ea4420f393",
   "metadata": {},
   "source": [
    "## Reference Information\n",
    "\n",
    "We saw for the trapezoidal rule, we have an error to leading order in $h$ of\n",
    "\n",
    "$$\n",
    "\\begin{align*}\n",
    "    \\epsilon_2 = \\frac{1}{3}(I_2 - I_1) \\tag{5.28}\n",
    "\\end{align*}\n",
    "$$\n",
    "\n",
    "and expect that for Simpson's rule, we will have an error to leading order in $h$ of\n",
    "\n",
    "$$\n",
    "\\begin{align*}\n",
    "    \\epsilon_2 = \\frac{1}{15}(I_2 - I_1). \\tag{5.29}\n",
    "\\end{align*}\n",
    "$$\n",
    "\n",
    "### Simpson's Rule\n",
    "\n",
    "$$\n",
    "\\begin{align*}\n",
    "    I(a, b) \\, dx = \\frac{1}{3}h \\left[\n",
    "        f(a) + f(b)\n",
    "        + 4 \\sum_{k = 1}^{N/2} f(a + (2k-1)h)\n",
    "        + 2 \\sum_{k = 1}^{N/2-1} f(a + 2kh)\n",
    "    \\right]\n",
    "\\end{align*}\n",
    "$$\n",
    "\n",
    "and\n",
    "\n",
    "$$\n",
    "\\begin{align*}\n",
    "    I = \\int_a^b f(x) \\, dx = I(a, b) + O(h^4).\n",
    "\\end{align*}\n",
    "$$"
   ]
  },
  {
   "cell_type": "markdown",
   "id": "dc50c5e6-8dc2-42f5-a208-0813298e888d",
   "metadata": {},
   "source": [
    "## Solution\n",
    "\n",
    "Let $c$ be the specific coefficient of the $O(h^4)$ term in the definition of Simpson's rule so we have\n",
    "\n",
    "$$\n",
    "\\begin{align*}\n",
    "    I = \\int_a^b f(x) \\, dx = I(a, b) + ch^4.\n",
    "\\end{align*}\n",
    "$$\n",
    "\n",
    "Let $N_1$ be some number of slices to evaluate $I_1 = I(a, b)$ with $h = h_1 = \\frac{(b-a)}{N_1}$. Then $I = I_1 + ch_1^4$.\n",
    "\n",
    "Let $N_2 = 2N_1$ to evaluate $I_2 = I(a, b)$ with $h = h_2 = \\frac{h_1}{2}$. Then $I = I_2 + ch_2^4$.\n",
    "\n",
    "Equating the two expressions for $I$ we have\n",
    "\n",
    "$$\n",
    "\\begin{align*}\n",
    "    I_1 + ch_1^4 &= I_2 + ch_2^4 \\\\\n",
    "    I_1 + c(2h_2)^4 &= I_2 + ch_2^4 \\\\\n",
    "    I_1 + 16ch_2^4 &= I_2 + ch_2^4 \\\\\n",
    "    15ch_2^4 &= I_2 - I_1 \\\\\n",
    "    \\epsilon = ch_2^4 &= \\frac{1}{15}\\left( I_2 - I_1 \\right). \\\\\n",
    "\\end{align*}\n",
    "$$"
   ]
  },
  {
   "cell_type": "code",
   "execution_count": null,
   "id": "ec95e457-5ae4-4f96-86be-61dcac3b7d78",
   "metadata": {},
   "outputs": [],
   "source": []
  }
 ],
 "metadata": {
  "kernelspec": {
   "display_name": "Python 3 (ipykernel)",
   "language": "python",
   "name": "python3"
  },
  "language_info": {
   "codemirror_mode": {
    "name": "ipython",
    "version": 3
   },
   "file_extension": ".py",
   "mimetype": "text/x-python",
   "name": "python",
   "nbconvert_exporter": "python",
   "pygments_lexer": "ipython3",
   "version": "3.11.2"
  }
 },
 "nbformat": 4,
 "nbformat_minor": 5
}
