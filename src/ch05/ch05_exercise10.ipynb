{
 "cells": [
  {
   "cell_type": "markdown",
   "id": "606567c5-d74b-4c90-9582-ebdf66ff3eaa",
   "metadata": {},
   "source": [
    "# Chapter 5, Exercise 10, Part A\n",
    "\n",
    "The equation describing the enery of an anharmonic oscillator can be expressed as\n",
    "\n",
    "<!-- Thanks Mooo97 for \\mathrm{d}x on them differentials! -->\n",
    "$$\n",
    "\\begin{align}\n",
    "    E = \\frac{1}{2} m \\left( \\frac{ \\mathrm{d}x }{ \\mathrm{d}t } \\right)^2 + V(x)\n",
    "\\end{align}\n",
    "$$\n",
    "\n",
    "where $E$ is the total energy of the system (which is constant). $m$ is the mass. $x$ is the position in the x direction. $t$ is time. And finally $V(x)$ is the potential energy of the mass at position $x$.\n",
    "\n",
    "Let $a$ be the amplitude of the oscillation measured along the x direction.\n",
    "\n",
    "As stated in the problem description, when $x = a$ we have $\\frac{\\mathrm{d}x}{\\mathrm{d}t} = 0$ since it's not moving so that $E = V(a)$. Then[\n",
    "\n",
    "$$\n",
    "\\begin{align}\n",
    "    V(a) &= \\frac{1}{2} m \\left( \\frac{ \\mathrm{d}x }{ \\mathrm{d}t } \\right)^2 + V(x) \\\\\n",
    "    V(a) - V(x) &= \\frac{1}{2} m \\left( \\frac{ \\mathrm{d}x }{ \\mathrm{d}t } \\right)^2 \\\\\n",
    "    \\sqrt{V(a) - V(x)} &= \\sqrt{\\frac{1}{2} m} \\left( \\frac{ \\mathrm{d}x }{ \\mathrm{d}t } \\right) \\\\\n",
    "\\end{align}\n",
    "$$\n",
    "\n",
    "which is a separable differential equation so we have\n",
    "\n",
    "$$\n",
    "\\begin{align}\n",
    "    \\mathrm{d}t &= \\sqrt{\\frac{1}{2} m} \\frac{\\mathrm{d}x}{\\sqrt{V(a) - V(x)}}.\n",
    "\\end{align}\n",
    "$$\n",
    "\n",
    "When $x$ ranges from $0$ to $a$, this represents one quarter of the oscillation period, so for the full oscillation period we have\n",
    "\n",
    "$$\n",
    "\\begin{align}\n",
    "    T = \\int \\mathrm{d}t &= 4 \\int_{0}^{a} \\sqrt{\\frac{1}{2} m} \\frac{\\mathrm{d}x}{\\sqrt{V(a) - V(x)}} \\\\\n",
    "    &= \\sqrt{8 m} \\int_{0}^{a} \\frac{\\mathrm{d}x}{\\sqrt{V(a) - V(x)}}\n",
    "\\end{align}\n",
    "$$"
   ]
  },
  {
   "cell_type": "markdown",
   "id": "f7c61a4c-0e28-4443-896a-1458943bb0ae",
   "metadata": {},
   "source": [
    "# Chapter 5, Exercise 10, Part C\n",
    "\n",
    "We see that the period gets smaller as $a$ increases, which means the frequence is greater so you could say the oscillator is getting faster. The period diverges at $0$ and is larger around $0$, meaning the frequency is low and you could say the oscillator is slower. For this particular potential function, the math works out so that period diverges around 0, it behaves kindof like $1/x$ if you take $V(a)$ to be really close to $0$ and work the integral. Then as $a$ gets close to $0$ this blows up. Then the speed of the oscillator in distance/time form travels at $2a/T$ which would decrease rapidly like $2ax$ so the speed is really low."
   ]
  },
  {
   "cell_type": "code",
   "execution_count": null,
   "id": "554ea12f-ae07-4a85-8c01-b4297937569d",
   "metadata": {},
   "outputs": [],
   "source": []
  }
 ],
 "metadata": {
  "kernelspec": {
   "display_name": "Python 3 (ipykernel)",
   "language": "python",
   "name": "python3"
  },
  "language_info": {
   "codemirror_mode": {
    "name": "ipython",
    "version": 3
   },
   "file_extension": ".py",
   "mimetype": "text/x-python",
   "name": "python",
   "nbconvert_exporter": "python",
   "pygments_lexer": "ipython3",
   "version": "3.11.2"
  }
 },
 "nbformat": 4,
 "nbformat_minor": 5
}
