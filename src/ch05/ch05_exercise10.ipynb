{
 "cells": [
  {
   "cell_type": "markdown",
   "id": "606567c5-d74b-4c90-9582-ebdf66ff3eaa",
   "metadata": {},
   "source": [
    "# Chapter 5, Exercise 10, Part A\n",
    "\n",
    "The equation describing the enery of an anharmonic oscillator can be expressed as\n",
    "\n",
    "<!-- Thanks Mooo97 for \\mathrm{d}x on them differentials! -->\n",
    "$$\n",
    "\\begin{align}\n",
    "    E = \\frac{1}{2} m \\left( \\frac{ \\mathrm{d}x }{ \\mathrm{d}t } \\right)^2 + V(x)\n",
    "\\end{align}\n",
    "$$\n",
    "\n",
    "where $E$ is the total energy of the system (which is constant). $m$ is the mass. $x$ is the position in the x direction. $t$ is time. And finally $V(x)$ is the potential energy of the mass at position $x$.\n",
    "\n",
    "Let $a$ be the amplitude of the oscillation measured along the x direction.\n",
    "\n",
    "As stated in the problem description, when $x = a$ we have $\\frac{\\mathrm{d}x}{\\mathrm{d}t} = 0$ since it's not moving so that $E = V(a)$. Then[\n",
    "\n",
    "$$\n",
    "\\begin{align}\n",
    "    V(a) &= \\frac{1}{2} m \\left( \\frac{ \\mathrm{d}x }{ \\mathrm{d}t } \\right)^2 + V(x) \\\\\n",
    "    V(a) - V(x) &= \\frac{1}{2} m \\left( \\frac{ \\mathrm{d}x }{ \\mathrm{d}t } \\right)^2 \\\\\n",
    "    \\sqrt{V(a) - V(x)} &= \\sqrt{\\frac{1}{2} m} \\left( \\frac{ \\mathrm{d}x }{ \\mathrm{d}t } \\right) \\\\\n",
    "\\end{align}\n",
    "$$\n",
    "\n",
    "which is a separable differential equation so we have\n",
    "\n",
    "$$\n",
    "\\begin{align}\n",
    "    \\mathrm{d}t &= \\sqrt{\\frac{1}{2} m} \\frac{\\mathrm{d}x}{\\sqrt{V(a) - V(x)}}.\n",
    "\\end{align}\n",
    "$$\n",
    "\n",
    "When $x$ ranges from $0$ to $a$, this represents one quarter of the oscillation period, so for the full oscillation period we have\n",
    "\n",
    "$$\n",
    "\\begin{align}\n",
    "    T = \\int \\mathrm{d}t &= 4 \\int_{0}^{a} \\sqrt{\\frac{1}{2} m} \\frac{\\mathrm{d}x}{\\sqrt{V(a) - V(x)}} \\\\\n",
    "    &= \\sqrt{8 m} \\int_{0}^{a} \\frac{\\mathrm{d}x}{\\sqrt{V(a) - V(x)}}\n",
    "\\end{align}\n",
    "$$"
   ]
  }
 ],
 "metadata": {
  "kernelspec": {
   "display_name": "Python 3 (ipykernel)",
   "language": "python",
   "name": "python3"
  },
  "language_info": {
   "codemirror_mode": {
    "name": "ipython",
    "version": 3
   },
   "file_extension": ".py",
   "mimetype": "text/x-python",
   "name": "python",
   "nbconvert_exporter": "python",
   "pygments_lexer": "ipython3",
   "version": "3.11.2"
  }
 },
 "nbformat": 4,
 "nbformat_minor": 5
}
