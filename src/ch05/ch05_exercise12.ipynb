{
 "cells": [
  {
   "cell_type": "markdown",
   "id": "af6ac8e6-699e-4554-88ee-6a93118584ca",
   "metadata": {},
   "source": [
    "# Chapter 5, Exercise 12, Part A\n",
    "\n",
    "To find the total rate at which energy is radiated by a black body per unit area over all frequencies can be calculated by considering all frequencies $\\omega$ from $0$ to $\\infty$ while integrating the Plank Theory black body radiation energy formula:\n",
    "\n",
    "$$\n",
    "\\begin{align}\n",
    "W &= \\int_0^\\infty I(\\omega) \\\\\n",
    "  &= \\int_0^\\infty \\frac{\\hbar}{4 \\pi^2 c^2} \\frac{\\omega^3}{(e^{\\hbar \\omega / k_B T} - 1)} \\, \\mathrm{d}\\omega.\n",
    "\\end{align}\n",
    "$$\n",
    "\n",
    "To simplify this a little bit, we can use a substitution of variables to eliminate the constants in the exponential in the denominator. Let $x = \\frac{\\hbar}{k_B T} \\omega$ and $\\mathrm{d}x = \\frac{\\hbar}{k_B T} \\mathrm{d}\\omega$, then we have\n",
    "\n",
    "$$\n",
    "\\begin{align}\n",
    "W &= \\int_0^\\infty \\frac{\\hbar}{4 \\pi^2 c^2} \\frac{\\omega^3}{(e^{\\hbar \\omega / k_B T} - 1)} \\, \\mathrm{d}\\omega \\\\\n",
    "  &= \\int_0^\\infty \\frac{\\hbar}{4 \\pi^2 c^2} \\frac{\\left(\\frac{k_B T}{\\hbar} x\\right)^3}{(e^{x} - 1)} \\, \\frac{k_B T}{\\hbar} \\mathrm{d}x \\\\\n",
    "  &= \\frac{k_B^4 T^4}{4 \\pi^2 c^2 \\hbar^3} \\int_0^\\infty  \\frac{x^3}{e^{x} - 1} \\, \\mathrm{d}x\n",
    "\\end{align}\n",
    "$$\n",
    "\n",
    "which is the result we are looking for."
   ]
  },
  {
   "cell_type": "code",
   "execution_count": null,
   "id": "36f39213-333b-4cf7-8264-d9901bb8a766",
   "metadata": {},
   "outputs": [],
   "source": []
  }
 ],
 "metadata": {
  "kernelspec": {
   "display_name": "Python 3 (ipykernel)",
   "language": "python",
   "name": "python3"
  },
  "language_info": {
   "codemirror_mode": {
    "name": "ipython",
    "version": 3
   },
   "file_extension": ".py",
   "mimetype": "text/x-python",
   "name": "python",
   "nbconvert_exporter": "python",
   "pygments_lexer": "ipython3",
   "version": "3.11.2"
  }
 },
 "nbformat": 4,
 "nbformat_minor": 5
}
